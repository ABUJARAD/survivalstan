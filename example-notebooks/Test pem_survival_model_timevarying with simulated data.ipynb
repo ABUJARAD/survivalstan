{
 "cells": [
  {
   "cell_type": "code",
   "execution_count": 1,
   "metadata": {
    "collapsed": false
   },
   "outputs": [
    {
     "name": "stderr",
     "output_type": "stream",
     "text": [
      "/Users/jburos/anaconda/envs/python3/lib/python3.5/site-packages/Cython/Distutils/old_build_ext.py:30: UserWarning: Cython.Distutils.old_build_ext does not properly handle dependencies and is deprecated.\n",
      "  \"Cython.Distutils.old_build_ext does not properly handle dependencies \"\n",
      "INFO:stancache.seed:Setting seed to 1245502385\n"
     ]
    }
   ],
   "source": [
    "%load_ext autoreload\n",
    "%autoreload 2\n",
    "%matplotlib inline\n",
    "import random\n",
    "random.seed(13847942484)\n",
    "import survivalstan\n",
    "import numpy as np\n",
    "import pandas as pd\n",
    "from stancache import stancache\n",
    "from matplotlib import pyplot as plt"
   ]
  },
  {
   "cell_type": "code",
   "execution_count": 2,
   "metadata": {
    "collapsed": false
   },
   "outputs": [
    {
     "name": "stdout",
     "output_type": "stream",
     "text": [
      "/*  Variable naming:\n",
      " // dimensions\n",
      " N          = total number of observations (length of data)\n",
      " S          = number of sample ids\n",
      " T          = max timepoint (number of timepoint ids)\n",
      " M          = number of covariates\n",
      " \n",
      " // data\n",
      " s          = sample id for each obs\n",
      " t          = timepoint id for each obs\n",
      " event      = integer indicating if there was an event at time t for sample s\n",
      " x          = matrix of real-valued covariates at time t for sample n [N, X]\n",
      " obs_t      = observed end time for interval for timepoint for that obs\n",
      " \n",
      "*/\n",
      "// Jacqueline Buros Novik <jackinovik@gmail.com>\n",
      "\n",
      "functions {\n",
      "  matrix spline(vector x, int N, int H, vector xi, int P) {\n",
      "    matrix[N, H + P] b_x;         // expanded predictors\n",
      "    for (n in 1:N) {\n",
      "        for (p in 1:P) {\n",
      "            b_x[n,p] <- pow(x[n],p-1);  // x[n]^(p-1)\n",
      "        }\n",
      "        for (h in 1:H)\n",
      "          b_x[n, h + P] <- fmax(0, pow(x[n] - xi[h],P-1)); \n",
      "    }\n",
      "    return b_x;\n",
      "  }\n",
      "}\n",
      "data {\n",
      "  // dimensions\n",
      "  int<lower=1> N;\n",
      "  int<lower=1> S;\n",
      "  int<lower=1> T;\n",
      "  int<lower=0> M;\n",
      "  \n",
      "  // data matrix\n",
      "  int<lower=1, upper=N> s[N];     // sample id\n",
      "  int<lower=1, upper=T> t[N];     // timepoint id\n",
      "  int<lower=0, upper=1> event[N]; // 1: event, 0:censor\n",
      "  matrix[N, M] x;                 // explanatory vars\n",
      "\n",
      "  // timepoint data\n",
      "  vector<lower=0>[T] t_obs;\n",
      "  vector<lower=0>[T] t_dur;\n",
      "}\n",
      "transformed data {\n",
      "  vector[T] log_t_dur;\n",
      "  int n_trans[S, T];  \n",
      "\n",
      "  log_t_dur = log(t_obs);\n",
      "  \n",
      "  // n_trans used to map each sample*timepoint to n (used in gen quantities)\n",
      "  // map each patient/timepoint combination to n values\n",
      "  for (n in 1:N) {\n",
      "      n_trans[s[n], t[n]] = n;\n",
      "  }\n",
      "\n",
      "  // fill in missing values with n for max t for that patient\n",
      "  // ie assume \"last observed\" state applies forward (may be problematic for TVC)\n",
      "  // this allows us to predict failure times >= observed survival times\n",
      "  for (samp in 1:S) {\n",
      "      int last_value;\n",
      "      last_value = 0;\n",
      "      for (tp in 1:T) {\n",
      "          // manual says ints are initialized to neg values\n",
      "          // so <=0 is a shorthand for \"unassigned\"\n",
      "          if (n_trans[samp, tp] <= 0 && last_value != 0) {\n",
      "              n_trans[samp, tp] = last_value;\n",
      "          } else {\n",
      "              last_value = n_trans[samp, tp];\n",
      "          }\n",
      "      }\n",
      "  }  \n",
      "}\n",
      "parameters {\n",
      "  vector[T] log_baseline_raw;    // unstructured baseline hazard for each timepoint t\n",
      "  real<lower=0> baseline_sigma;\n",
      "  real log_baseline_mu;\n",
      "  \n",
      "  vector[M] beta; // beta-intercept\n",
      "  vector[M] beta_time_sigma;\n",
      "  vector[T-1] raw_beta_time_deltas[M]; // for each coefficient\n",
      "                                       // change in coefficient value from previous time\n",
      "}\n",
      "transformed parameters {\n",
      "  vector[N] log_hazard;\n",
      "  vector[T] log_baseline;\n",
      "  vector[T] beta_time[M];\n",
      "  vector[T] beta_time_deltas[M];\n",
      "\n",
      "  // adjust baseline hazard for duration of each period\n",
      "  log_baseline = log_baseline_raw + log_t_dur;\n",
      "  \n",
      "  // compute timepoint-specific betas \n",
      "  // offsets from previous time\n",
      "  for (coef in 1:M) {\n",
      "      beta_time_deltas[coef][1] = 0;\n",
      "      for (time in 2:T) {\n",
      "          beta_time_deltas[coef][time] = raw_beta_time_deltas[coef][time-1];\n",
      "      }\n",
      "  }\n",
      "  \n",
      "  // coefficients for each timepoint T\n",
      "  for (coef in 1:M) {\n",
      "      beta_time[coef] = beta[coef] + cumulative_sum(beta_time_deltas[coef]);\n",
      "  }\n",
      "\n",
      "  // compute log-hazard for each obs\n",
      "  for (n in 1:N) {\n",
      "    real log_linpred;\n",
      "    log_linpred <- 0;\n",
      "    for (coef in 1:M) {\n",
      "      // for now, handle each coef separately\n",
      "      // (to be sure we pull out the \"right\" beta..)\n",
      "      log_linpred = log_linpred + x[n, coef] * beta_time[coef][t[n]]; \n",
      "    }\n",
      "    log_hazard[n] = log_baseline_mu + log_baseline[t[n]] + log_linpred;\n",
      "  }\n",
      "}\n",
      "model {\n",
      "  // priors on time-varying coefficients\n",
      "  for (m in 1:M) {\n",
      "    raw_beta_time_deltas[m][1] ~ normal(0, 100);\n",
      "    for(i in 2:(T-1)){\n",
      "        raw_beta_time_deltas[m][i] ~ normal(raw_beta_time_deltas[m][i-1], beta_time_sigma[m]);\n",
      "    }\n",
      "  }\n",
      "  beta_time_sigma ~ cauchy(0, 1);\n",
      "  beta ~ cauchy(0, 1);\n",
      "  \n",
      "  // priors on baseline hazard\n",
      "  log_baseline_mu ~ normal(0, 1);\n",
      "  baseline_sigma ~ normal(0, 1);\n",
      "  log_baseline_raw[1] ~ normal(0, 1);\n",
      "  for (i in 2:T) {\n",
      "      log_baseline_raw[i] ~ normal(log_baseline_raw[i-1], baseline_sigma);\n",
      "  }\n",
      "  \n",
      "  // model\n",
      "  event ~ poisson_log(log_hazard);\n",
      "}\n",
      "generated quantities {\n",
      "  real log_lik[N];\n",
      "  vector[T] baseline;\n",
      "  int y_hat_mat[S, T];     // ppcheck for each S*T combination\n",
      "  real y_hat_time[S];      // predicted failure time for each sample\n",
      "  int y_hat_event[S];      // predicted event (0:censor, 1:event)\n",
      "  \n",
      "  // compute raw baseline hazard, for summary/plotting\n",
      "  baseline = exp(log_baseline_raw);\n",
      "  \n",
      "  // log_likelihood for loo-psis\n",
      "  for (n in 1:N) {\n",
      "      log_lik[n] <- poisson_log_lpmf(event[n] | log_hazard[n]);\n",
      "  }\n",
      "  \n",
      "  // posterior predicted values\n",
      "  for (samp in 1:S) {\n",
      "      int sample_alive;\n",
      "      sample_alive = 1;\n",
      "      for (tp in 1:T) {\n",
      "        if (sample_alive == 1) {\n",
      "              int n;\n",
      "              int pred_y;\n",
      "              real log_linpred;\n",
      "              real log_haz;\n",
      "              \n",
      "              // determine predicted value of y\n",
      "              n = n_trans[samp, tp];\n",
      "              \n",
      "              // (borrow code from above to calc linpred)\n",
      "              // but use sim tp not t[n] \n",
      "              log_linpred = 0;\n",
      "              for (coef in 1:M) {\n",
      "                  // for now, handle each coef separately\n",
      "                  // (to be sure we pull out the \"right\" beta..)\n",
      "                  log_linpred = log_linpred + x[n, coef] * beta_time[coef][tp]; \n",
      "              }\n",
      "              log_haz = log_baseline_mu + log_baseline[tp] + log_linpred;\n",
      "              \n",
      "              // now, make posterior prediction \n",
      "              if (log_haz < log(pow(2, 30))) \n",
      "                  pred_y = poisson_log_rng(log_haz);\n",
      "              else\n",
      "                  pred_y = 9; \n",
      "              \n",
      "              // mark this patient as ineligible for future tps\n",
      "              // note: deliberately make 9s ineligible \n",
      "              if (pred_y >= 1) {\n",
      "                  sample_alive = 0;\n",
      "                  y_hat_time[samp] = t_obs[tp];\n",
      "                  y_hat_event[samp] = 1;\n",
      "              }\n",
      "              \n",
      "              // save predicted value of y to matrix\n",
      "              y_hat_mat[samp, tp] = pred_y;\n",
      "          }\n",
      "          else if (sample_alive == 0) {\n",
      "              y_hat_mat[samp, tp] = 9;\n",
      "          } \n",
      "      } // end per-timepoint loop\n",
      "      \n",
      "      // if patient still alive at max\n",
      "      // \n",
      "      if (sample_alive == 1) {\n",
      "          y_hat_time[samp] = t_obs[T];\n",
      "          y_hat_event[samp] = 0;\n",
      "      }\n",
      "  } // end per-sample loop\n",
      "}\n",
      "\n"
     ]
    }
   ],
   "source": [
    "print(survivalstan.models.pem_survival_model_timevarying)"
   ]
  },
  {
   "cell_type": "code",
   "execution_count": 3,
   "metadata": {
    "collapsed": false
   },
   "outputs": [
    {
     "name": "stderr",
     "output_type": "stream",
     "text": [
      "INFO:stancache.stancache:sim_data_exp_correlated: cache_filename set to sim_data_exp_correlated.cached.N_100.censor_time_20.rate_coefs_54462717316.rate_form_1 + sex.pkl\n",
      "INFO:stancache.stancache:sim_data_exp_correlated: Loading result from cache\n"
     ]
    },
    {
     "data": {
      "text/html": [
       "<div>\n",
       "<table border=\"1\" class=\"dataframe\">\n",
       "  <thead>\n",
       "    <tr style=\"text-align: right;\">\n",
       "      <th></th>\n",
       "      <th>age</th>\n",
       "      <th>sex</th>\n",
       "      <th>rate</th>\n",
       "      <th>true_t</th>\n",
       "      <th>t</th>\n",
       "      <th>event</th>\n",
       "      <th>index</th>\n",
       "      <th>age_centered</th>\n",
       "    </tr>\n",
       "  </thead>\n",
       "  <tbody>\n",
       "    <tr>\n",
       "      <th>0</th>\n",
       "      <td>56</td>\n",
       "      <td>male</td>\n",
       "      <td>0.082085</td>\n",
       "      <td>3.690371</td>\n",
       "      <td>3.690371</td>\n",
       "      <td>True</td>\n",
       "      <td>0</td>\n",
       "      <td>0.61</td>\n",
       "    </tr>\n",
       "    <tr>\n",
       "      <th>1</th>\n",
       "      <td>53</td>\n",
       "      <td>male</td>\n",
       "      <td>0.082085</td>\n",
       "      <td>1.574213</td>\n",
       "      <td>1.574213</td>\n",
       "      <td>True</td>\n",
       "      <td>1</td>\n",
       "      <td>-2.39</td>\n",
       "    </tr>\n",
       "    <tr>\n",
       "      <th>2</th>\n",
       "      <td>43</td>\n",
       "      <td>male</td>\n",
       "      <td>0.082085</td>\n",
       "      <td>29.095240</td>\n",
       "      <td>20.000000</td>\n",
       "      <td>False</td>\n",
       "      <td>2</td>\n",
       "      <td>-12.39</td>\n",
       "    </tr>\n",
       "    <tr>\n",
       "      <th>3</th>\n",
       "      <td>50</td>\n",
       "      <td>male</td>\n",
       "      <td>0.082085</td>\n",
       "      <td>1.017584</td>\n",
       "      <td>1.017584</td>\n",
       "      <td>True</td>\n",
       "      <td>3</td>\n",
       "      <td>-5.39</td>\n",
       "    </tr>\n",
       "    <tr>\n",
       "      <th>4</th>\n",
       "      <td>45</td>\n",
       "      <td>male</td>\n",
       "      <td>0.082085</td>\n",
       "      <td>40.317564</td>\n",
       "      <td>20.000000</td>\n",
       "      <td>False</td>\n",
       "      <td>4</td>\n",
       "      <td>-10.39</td>\n",
       "    </tr>\n",
       "  </tbody>\n",
       "</table>\n",
       "</div>"
      ],
      "text/plain": [
       "   age   sex      rate     true_t          t  event  index  age_centered\n",
       "0   56  male  0.082085   3.690371   3.690371   True      0          0.61\n",
       "1   53  male  0.082085   1.574213   1.574213   True      1         -2.39\n",
       "2   43  male  0.082085  29.095240  20.000000  False      2        -12.39\n",
       "3   50  male  0.082085   1.017584   1.017584   True      3         -5.39\n",
       "4   45  male  0.082085  40.317564  20.000000  False      4        -10.39"
      ]
     },
     "execution_count": 3,
     "metadata": {},
     "output_type": "execute_result"
    }
   ],
   "source": [
    "d = stancache.cached(\n",
    "    survivalstan.sim.sim_data_exp_correlated,\n",
    "    N=100,\n",
    "    censor_time=20,\n",
    "    rate_form='1 + sex',\n",
    "    rate_coefs=[-3, 0.5],\n",
    ")\n",
    "d['age_centered'] = d['age'] - d['age'].mean()\n",
    "d.head()"
   ]
  },
  {
   "cell_type": "code",
   "execution_count": 4,
   "metadata": {
    "collapsed": false
   },
   "outputs": [
    {
     "data": {
      "text/plain": [
       "<matplotlib.legend.Legend at 0x10efd9a58>"
      ]
     },
     "execution_count": 4,
     "metadata": {},
     "output_type": "execute_result"
    },
    {
     "data": {
      "image/png": "[encoded data removed]",
      "text/plain": [
       "<matplotlib.figure.Figure at 0x10efd9c18>"
      ]
     },
     "metadata": {},
     "output_type": "display_data"
    }
   ],
   "source": [
    "survivalstan.utils.plot_observed_survival(df=d[d['sex']=='female'], event_col='event', time_col='t', label='female')\n",
    "survivalstan.utils.plot_observed_survival(df=d[d['sex']=='male'], event_col='event', time_col='t', label='male')\n",
    "plt.legend()"
   ]
  },
  {
   "cell_type": "code",
   "execution_count": 5,
   "metadata": {
    "collapsed": false
   },
   "outputs": [],
   "source": [
    "dlong = survivalstan.prep_data_long_surv(df=d, event_col='event', time_col='t')"
   ]
  },
  {
   "cell_type": "code",
   "execution_count": 6,
   "metadata": {
    "collapsed": false
   },
   "outputs": [
    {
     "data": {
      "text/html": [
       "<div>\n",
       "<table border=\"1\" class=\"dataframe\">\n",
       "  <thead>\n",
       "    <tr style=\"text-align: right;\">\n",
       "      <th></th>\n",
       "      <th>age</th>\n",
       "      <th>sex</th>\n",
       "      <th>rate</th>\n",
       "      <th>true_t</th>\n",
       "      <th>t</th>\n",
       "      <th>event</th>\n",
       "      <th>index</th>\n",
       "      <th>age_centered</th>\n",
       "      <th>key</th>\n",
       "      <th>end_time</th>\n",
       "      <th>end_failure</th>\n",
       "    </tr>\n",
       "  </thead>\n",
       "  <tbody>\n",
       "    <tr>\n",
       "      <th>0</th>\n",
       "      <td>56</td>\n",
       "      <td>male</td>\n",
       "      <td>0.082085</td>\n",
       "      <td>3.690371</td>\n",
       "      <td>3.690371</td>\n",
       "      <td>True</td>\n",
       "      <td>0</td>\n",
       "      <td>0.61</td>\n",
       "      <td>1</td>\n",
       "      <td>3.690371</td>\n",
       "      <td>True</td>\n",
       "    </tr>\n",
       "    <tr>\n",
       "      <th>1</th>\n",
       "      <td>56</td>\n",
       "      <td>male</td>\n",
       "      <td>0.082085</td>\n",
       "      <td>3.690371</td>\n",
       "      <td>3.690371</td>\n",
       "      <td>True</td>\n",
       "      <td>0</td>\n",
       "      <td>0.61</td>\n",
       "      <td>1</td>\n",
       "      <td>1.574213</td>\n",
       "      <td>False</td>\n",
       "    </tr>\n",
       "    <tr>\n",
       "      <th>3</th>\n",
       "      <td>56</td>\n",
       "      <td>male</td>\n",
       "      <td>0.082085</td>\n",
       "      <td>3.690371</td>\n",
       "      <td>3.690371</td>\n",
       "      <td>True</td>\n",
       "      <td>0</td>\n",
       "      <td>0.61</td>\n",
       "      <td>1</td>\n",
       "      <td>1.017584</td>\n",
       "      <td>False</td>\n",
       "    </tr>\n",
       "    <tr>\n",
       "      <th>7</th>\n",
       "      <td>56</td>\n",
       "      <td>male</td>\n",
       "      <td>0.082085</td>\n",
       "      <td>3.690371</td>\n",
       "      <td>3.690371</td>\n",
       "      <td>True</td>\n",
       "      <td>0</td>\n",
       "      <td>0.61</td>\n",
       "      <td>1</td>\n",
       "      <td>1.292124</td>\n",
       "      <td>False</td>\n",
       "    </tr>\n",
       "    <tr>\n",
       "      <th>8</th>\n",
       "      <td>56</td>\n",
       "      <td>male</td>\n",
       "      <td>0.082085</td>\n",
       "      <td>3.690371</td>\n",
       "      <td>3.690371</td>\n",
       "      <td>True</td>\n",
       "      <td>0</td>\n",
       "      <td>0.61</td>\n",
       "      <td>1</td>\n",
       "      <td>1.743126</td>\n",
       "      <td>False</td>\n",
       "    </tr>\n",
       "  </tbody>\n",
       "</table>\n",
       "</div>"
      ],
      "text/plain": [
       "   age   sex      rate    true_t         t event  index  age_centered  key  \\\n",
       "0   56  male  0.082085  3.690371  3.690371  True      0          0.61    1   \n",
       "1   56  male  0.082085  3.690371  3.690371  True      0          0.61    1   \n",
       "3   56  male  0.082085  3.690371  3.690371  True      0          0.61    1   \n",
       "7   56  male  0.082085  3.690371  3.690371  True      0          0.61    1   \n",
       "8   56  male  0.082085  3.690371  3.690371  True      0          0.61    1   \n",
       "\n",
       "   end_time end_failure  \n",
       "0  3.690371        True  \n",
       "1  1.574213       False  \n",
       "3  1.017584       False  \n",
       "7  1.292124       False  \n",
       "8  1.743126       False  "
      ]
     },
     "execution_count": 6,
     "metadata": {},
     "output_type": "execute_result"
    }
   ],
   "source": [
    "dlong.head()"
   ]
  },
  {
   "cell_type": "code",
   "execution_count": 7,
   "metadata": {
    "collapsed": false
   },
   "outputs": [
    {
     "name": "stderr",
     "output_type": "stream",
     "text": [
      "INFO:stancache.stancache:Step 1: Get compiled model code, possibly from cache\n",
      "INFO:stancache.stancache:StanModel: cache_filename set to anon_model.cython_0_25_1.model_code_72587862687.pystan_2_12_0_0.stanmodel.pkl\n",
      "INFO:stancache.stancache:StanModel: Loading result from cache\n",
      "INFO:stancache.stancache:Step 2: Get posterior draws from model, possibly from cache\n",
      "INFO:stancache.stancache:sampling: cache_filename set to anon_model.cython_0_25_1.model_code_72587862687.pystan_2_12_0_0.stanfit.chains_4.data_48760636088.iter_5000.seed_9001.pkl\n",
      "INFO:stancache.stancache:sampling: Starting execution\n"
     ]
    },
    {
     "ename": "KeyboardInterrupt",
     "evalue": "",
     "output_type": "error",
     "traceback": [
      "\u001b[0;31m---------------------------------------------------------------------------\u001b[0m",
      "\u001b[0;31mKeyboardInterrupt\u001b[0m                         Traceback (most recent call last)",
      "\u001b[0;32m<ipython-input-7-55be217ddf8f>\u001b[0m in \u001b[0;36m<module>\u001b[0;34m()\u001b[0m\n\u001b[1;32m     10\u001b[0m     \u001b[0mchains\u001b[0m \u001b[0;34m=\u001b[0m \u001b[0;36m4\u001b[0m\u001b[0;34m,\u001b[0m\u001b[0;34m\u001b[0m\u001b[0m\n\u001b[1;32m     11\u001b[0m     \u001b[0mseed\u001b[0m \u001b[0;34m=\u001b[0m \u001b[0;36m9001\u001b[0m\u001b[0;34m,\u001b[0m\u001b[0;34m\u001b[0m\u001b[0m\n\u001b[0;32m---> 12\u001b[0;31m     \u001b[0mFIT_FUN\u001b[0m \u001b[0;34m=\u001b[0m \u001b[0mstancache\u001b[0m\u001b[0;34m.\u001b[0m\u001b[0mcached_stan_fit\u001b[0m\u001b[0;34m,\u001b[0m\u001b[0;34m\u001b[0m\u001b[0m\n\u001b[0m\u001b[1;32m     13\u001b[0m     )\n",
      "\u001b[0;32m/Users/jburos/anaconda/envs/python3/lib/python3.5/site-packages/survivalstan/survivalstan.py\u001b[0m in \u001b[0;36mfit_stan_survival_model\u001b[0;34m(df, formula, event_col, model_code, file, model_cohort, time_col, sample_id_col, sample_col, group_id_col, group_col, timepoint_id_col, timepoint_end_col, make_inits, stan_data, grp_coef_type, FIT_FUN, *args, **kwargs)\u001b[0m\n\u001b[1;32m    171\u001b[0m         \u001b[0mdata\u001b[0m \u001b[0;34m=\u001b[0m \u001b[0msurvival_model_input_data\u001b[0m\u001b[0;34m,\u001b[0m\u001b[0;34m\u001b[0m\u001b[0m\n\u001b[1;32m    172\u001b[0m         \u001b[0;34m*\u001b[0m\u001b[0margs\u001b[0m\u001b[0;34m,\u001b[0m\u001b[0;34m\u001b[0m\u001b[0m\n\u001b[0;32m--> 173\u001b[0;31m         \u001b[0;34m**\u001b[0m\u001b[0mkwargs\u001b[0m\u001b[0;34m\u001b[0m\u001b[0m\n\u001b[0m\u001b[1;32m    174\u001b[0m     )\n\u001b[1;32m    175\u001b[0m \u001b[0;34m\u001b[0m\u001b[0m\n",
      "\u001b[0;32m/Users/jburos/anaconda/envs/python3/lib/python3.5/site-packages/stancache/stancache.py\u001b[0m in \u001b[0;36mcached_stan_fit\u001b[0;34m(iter, chains, seed, *args, **kwargs)\u001b[0m\n\u001b[1;32m    162\u001b[0m     \u001b[0;32mif\u001b[0m \u001b[0mseed\u001b[0m \u001b[0;32mis\u001b[0m \u001b[0;32mNone\u001b[0m\u001b[0;34m:\u001b[0m\u001b[0;34m\u001b[0m\u001b[0m\n\u001b[1;32m    163\u001b[0m         \u001b[0mseed\u001b[0m \u001b[0;34m=\u001b[0m \u001b[0mconfig\u001b[0m\u001b[0;34m.\u001b[0m\u001b[0mget_setting_value\u001b[0m\u001b[0;34m(\u001b[0m\u001b[0;34m'SEED'\u001b[0m\u001b[0;34m)\u001b[0m\u001b[0;34m\u001b[0m\u001b[0m\n\u001b[0;32m--> 164\u001b[0;31m     \u001b[0;32mreturn\u001b[0m \u001b[0m_cached_stan_fit\u001b[0m\u001b[0;34m(\u001b[0m\u001b[0mseed\u001b[0m\u001b[0;34m=\u001b[0m\u001b[0mseed\u001b[0m\u001b[0;34m,\u001b[0m \u001b[0miter\u001b[0m\u001b[0;34m=\u001b[0m\u001b[0miter\u001b[0m\u001b[0;34m,\u001b[0m \u001b[0mchains\u001b[0m\u001b[0;34m=\u001b[0m\u001b[0mchains\u001b[0m\u001b[0;34m,\u001b[0m \u001b[0;34m**\u001b[0m\u001b[0mkwargs\u001b[0m\u001b[0;34m)\u001b[0m\u001b[0;34m\u001b[0m\u001b[0m\n\u001b[0m\u001b[1;32m    165\u001b[0m \u001b[0;34m\u001b[0m\u001b[0m\n\u001b[1;32m    166\u001b[0m \u001b[0;34m\u001b[0m\u001b[0m\n",
      "\u001b[0;32m/Users/jburos/anaconda/envs/python3/lib/python3.5/site-packages/stancache/stancache.py\u001b[0m in \u001b[0;36m_cached_stan_fit\u001b[0;34m(model_name, file, model_code, force, cache_dir, cache_only, fit_cachefile, **kwargs)\u001b[0m\n\u001b[1;32m    146\u001b[0m                   \u001b[0mforce\u001b[0m\u001b[0;34m=\u001b[0m\u001b[0mforce\u001b[0m\u001b[0;34m,\u001b[0m\u001b[0;34m\u001b[0m\u001b[0m\n\u001b[1;32m    147\u001b[0m                   \u001b[0mcache_only\u001b[0m\u001b[0;34m=\u001b[0m\u001b[0mcache_only\u001b[0m\u001b[0;34m,\u001b[0m\u001b[0;34m\u001b[0m\u001b[0m\n\u001b[0;32m--> 148\u001b[0;31m                   **kwargs)\n\u001b[0m\u001b[1;32m    149\u001b[0m     \u001b[0;32mreturn\u001b[0m \u001b[0mfit\u001b[0m\u001b[0;34m\u001b[0m\u001b[0m\n\u001b[1;32m    150\u001b[0m \u001b[0;34m\u001b[0m\u001b[0m\n",
      "\u001b[0;32m/Users/jburos/anaconda/envs/python3/lib/python3.5/site-packages/stancache/stancache.py\u001b[0m in \u001b[0;36mcached\u001b[0;34m(func, file_prefix, cache_filename, cache_dir, force, cache_only, compute_hash, *args, **kwargs)\u001b[0m\n\u001b[1;32m    189\u001b[0m     \u001b[0mlogger\u001b[0m\u001b[0;34m.\u001b[0m\u001b[0minfo\u001b[0m\u001b[0;34m(\u001b[0m\u001b[0;34m'{}: Starting execution'\u001b[0m\u001b[0;34m.\u001b[0m\u001b[0mformat\u001b[0m\u001b[0;34m(\u001b[0m\u001b[0mfunc\u001b[0m\u001b[0;34m.\u001b[0m\u001b[0m__name__\u001b[0m\u001b[0;34m)\u001b[0m\u001b[0;34m)\u001b[0m\u001b[0;34m\u001b[0m\u001b[0m\n\u001b[1;32m    190\u001b[0m     \u001b[0mstart\u001b[0m \u001b[0;34m=\u001b[0m \u001b[0mtime\u001b[0m\u001b[0;34m(\u001b[0m\u001b[0;34m)\u001b[0m\u001b[0;34m\u001b[0m\u001b[0m\n\u001b[0;32m--> 191\u001b[0;31m     \u001b[0mres\u001b[0m \u001b[0;34m=\u001b[0m \u001b[0mfunc\u001b[0m\u001b[0;34m(\u001b[0m\u001b[0;34m**\u001b[0m\u001b[0mkwargs\u001b[0m\u001b[0;34m)\u001b[0m\u001b[0;34m\u001b[0m\u001b[0m\n\u001b[0m\u001b[1;32m    192\u001b[0m     \u001b[0mend\u001b[0m \u001b[0;34m=\u001b[0m \u001b[0mtime\u001b[0m\u001b[0;34m(\u001b[0m\u001b[0;34m)\u001b[0m\u001b[0;34m\u001b[0m\u001b[0m\n\u001b[1;32m    193\u001b[0m     \u001b[0melapsed\u001b[0m \u001b[0;34m=\u001b[0m \u001b[0mstr\u001b[0m\u001b[0;34m(\u001b[0m\u001b[0mtimedelta\u001b[0m\u001b[0;34m(\u001b[0m\u001b[0mseconds\u001b[0m\u001b[0;34m=\u001b[0m\u001b[0mend\u001b[0m\u001b[0;34m-\u001b[0m\u001b[0mstart\u001b[0m\u001b[0;34m)\u001b[0m\u001b[0;34m)\u001b[0m\u001b[0;34m\u001b[0m\u001b[0m\n",
      "\u001b[0;32m/Users/jburos/anaconda/envs/python3/lib/python3.5/site-packages/pystan/model.py\u001b[0m in \u001b[0;36msampling\u001b[0;34m(self, data, pars, chains, iter, warmup, thin, seed, init, sample_file, diagnostic_file, verbose, algorithm, control, n_jobs, **kwargs)\u001b[0m\n\u001b[1;32m    719\u001b[0m         \u001b[0mcall_sampler_args\u001b[0m \u001b[0;34m=\u001b[0m \u001b[0mizip\u001b[0m\u001b[0;34m(\u001b[0m\u001b[0mitertools\u001b[0m\u001b[0;34m.\u001b[0m\u001b[0mrepeat\u001b[0m\u001b[0;34m(\u001b[0m\u001b[0mdata\u001b[0m\u001b[0;34m)\u001b[0m\u001b[0;34m,\u001b[0m \u001b[0margs_list\u001b[0m\u001b[0;34m,\u001b[0m \u001b[0mitertools\u001b[0m\u001b[0;34m.\u001b[0m\u001b[0mrepeat\u001b[0m\u001b[0;34m(\u001b[0m\u001b[0mpars\u001b[0m\u001b[0;34m)\u001b[0m\u001b[0;34m)\u001b[0m\u001b[0;34m\u001b[0m\u001b[0m\n\u001b[1;32m    720\u001b[0m         \u001b[0mcall_sampler_star\u001b[0m \u001b[0;34m=\u001b[0m \u001b[0mself\u001b[0m\u001b[0;34m.\u001b[0m\u001b[0mmodule\u001b[0m\u001b[0;34m.\u001b[0m\u001b[0m_call_sampler_star\u001b[0m\u001b[0;34m\u001b[0m\u001b[0m\n\u001b[0;32m--> 721\u001b[0;31m         \u001b[0mret_and_samples\u001b[0m \u001b[0;34m=\u001b[0m \u001b[0m_map_parallel\u001b[0m\u001b[0;34m(\u001b[0m\u001b[0mcall_sampler_star\u001b[0m\u001b[0;34m,\u001b[0m \u001b[0mcall_sampler_args\u001b[0m\u001b[0;34m,\u001b[0m \u001b[0mn_jobs\u001b[0m\u001b[0;34m)\u001b[0m\u001b[0;34m\u001b[0m\u001b[0m\n\u001b[0m\u001b[1;32m    722\u001b[0m         \u001b[0msamples\u001b[0m \u001b[0;34m=\u001b[0m \u001b[0;34m[\u001b[0m\u001b[0msmpl\u001b[0m \u001b[0;32mfor\u001b[0m \u001b[0m_\u001b[0m\u001b[0;34m,\u001b[0m \u001b[0msmpl\u001b[0m \u001b[0;32min\u001b[0m \u001b[0mret_and_samples\u001b[0m\u001b[0;34m]\u001b[0m\u001b[0;34m\u001b[0m\u001b[0m\n\u001b[1;32m    723\u001b[0m \u001b[0;34m\u001b[0m\u001b[0m\n",
      "\u001b[0;32m/Users/jburos/anaconda/envs/python3/lib/python3.5/site-packages/pystan/model.py\u001b[0m in \u001b[0;36m_map_parallel\u001b[0;34m(function, args, n_jobs)\u001b[0m\n\u001b[1;32m     79\u001b[0m             \u001b[0mn_jobs\u001b[0m \u001b[0;34m=\u001b[0m \u001b[0;32mNone\u001b[0m\u001b[0;34m\u001b[0m\u001b[0m\n\u001b[1;32m     80\u001b[0m         \u001b[0mpool\u001b[0m \u001b[0;34m=\u001b[0m \u001b[0mmultiprocessing\u001b[0m\u001b[0;34m.\u001b[0m\u001b[0mPool\u001b[0m\u001b[0;34m(\u001b[0m\u001b[0mprocesses\u001b[0m\u001b[0;34m=\u001b[0m\u001b[0mn_jobs\u001b[0m\u001b[0;34m)\u001b[0m\u001b[0;34m\u001b[0m\u001b[0m\n\u001b[0;32m---> 81\u001b[0;31m         \u001b[0mmap_result\u001b[0m \u001b[0;34m=\u001b[0m \u001b[0mpool\u001b[0m\u001b[0;34m.\u001b[0m\u001b[0mmap\u001b[0m\u001b[0;34m(\u001b[0m\u001b[0mfunction\u001b[0m\u001b[0;34m,\u001b[0m \u001b[0margs\u001b[0m\u001b[0;34m)\u001b[0m\u001b[0;34m\u001b[0m\u001b[0m\n\u001b[0m\u001b[1;32m     82\u001b[0m         \u001b[0mpool\u001b[0m\u001b[0;34m.\u001b[0m\u001b[0mclose\u001b[0m\u001b[0;34m(\u001b[0m\u001b[0;34m)\u001b[0m\u001b[0;34m\u001b[0m\u001b[0m\n\u001b[1;32m     83\u001b[0m         \u001b[0mpool\u001b[0m\u001b[0;34m.\u001b[0m\u001b[0mjoin\u001b[0m\u001b[0;34m(\u001b[0m\u001b[0;34m)\u001b[0m\u001b[0;34m\u001b[0m\u001b[0m\n",
      "\u001b[0;32m/Users/jburos/anaconda/envs/python3/lib/python3.5/multiprocessing/pool.py\u001b[0m in \u001b[0;36mmap\u001b[0;34m(self, func, iterable, chunksize)\u001b[0m\n\u001b[1;32m    258\u001b[0m         \u001b[0;32min\u001b[0m \u001b[0ma\u001b[0m \u001b[0mlist\u001b[0m \u001b[0mthat\u001b[0m \u001b[0;32mis\u001b[0m \u001b[0mreturned\u001b[0m\u001b[0;34m.\u001b[0m\u001b[0;34m\u001b[0m\u001b[0m\n\u001b[1;32m    259\u001b[0m         '''\n\u001b[0;32m--> 260\u001b[0;31m         \u001b[0;32mreturn\u001b[0m \u001b[0mself\u001b[0m\u001b[0;34m.\u001b[0m\u001b[0m_map_async\u001b[0m\u001b[0;34m(\u001b[0m\u001b[0mfunc\u001b[0m\u001b[0;34m,\u001b[0m \u001b[0miterable\u001b[0m\u001b[0;34m,\u001b[0m \u001b[0mmapstar\u001b[0m\u001b[0;34m,\u001b[0m \u001b[0mchunksize\u001b[0m\u001b[0;34m)\u001b[0m\u001b[0;34m.\u001b[0m\u001b[0mget\u001b[0m\u001b[0;34m(\u001b[0m\u001b[0;34m)\u001b[0m\u001b[0;34m\u001b[0m\u001b[0m\n\u001b[0m\u001b[1;32m    261\u001b[0m \u001b[0;34m\u001b[0m\u001b[0m\n\u001b[1;32m    262\u001b[0m     \u001b[0;32mdef\u001b[0m \u001b[0mstarmap\u001b[0m\u001b[0;34m(\u001b[0m\u001b[0mself\u001b[0m\u001b[0;34m,\u001b[0m \u001b[0mfunc\u001b[0m\u001b[0;34m,\u001b[0m \u001b[0miterable\u001b[0m\u001b[0;34m,\u001b[0m \u001b[0mchunksize\u001b[0m\u001b[0;34m=\u001b[0m\u001b[0;32mNone\u001b[0m\u001b[0;34m)\u001b[0m\u001b[0;34m:\u001b[0m\u001b[0;34m\u001b[0m\u001b[0m\n",
      "\u001b[0;32m/Users/jburos/anaconda/envs/python3/lib/python3.5/multiprocessing/pool.py\u001b[0m in \u001b[0;36mget\u001b[0;34m(self, timeout)\u001b[0m\n\u001b[1;32m    600\u001b[0m \u001b[0;34m\u001b[0m\u001b[0m\n\u001b[1;32m    601\u001b[0m     \u001b[0;32mdef\u001b[0m \u001b[0mget\u001b[0m\u001b[0;34m(\u001b[0m\u001b[0mself\u001b[0m\u001b[0;34m,\u001b[0m \u001b[0mtimeout\u001b[0m\u001b[0;34m=\u001b[0m\u001b[0;32mNone\u001b[0m\u001b[0;34m)\u001b[0m\u001b[0;34m:\u001b[0m\u001b[0;34m\u001b[0m\u001b[0m\n\u001b[0;32m--> 602\u001b[0;31m         \u001b[0mself\u001b[0m\u001b[0;34m.\u001b[0m\u001b[0mwait\u001b[0m\u001b[0;34m(\u001b[0m\u001b[0mtimeout\u001b[0m\u001b[0;34m)\u001b[0m\u001b[0;34m\u001b[0m\u001b[0m\n\u001b[0m\u001b[1;32m    603\u001b[0m         \u001b[0;32mif\u001b[0m \u001b[0;32mnot\u001b[0m \u001b[0mself\u001b[0m\u001b[0;34m.\u001b[0m\u001b[0mready\u001b[0m\u001b[0;34m(\u001b[0m\u001b[0;34m)\u001b[0m\u001b[0;34m:\u001b[0m\u001b[0;34m\u001b[0m\u001b[0m\n\u001b[1;32m    604\u001b[0m             \u001b[0;32mraise\u001b[0m \u001b[0mTimeoutError\u001b[0m\u001b[0;34m\u001b[0m\u001b[0m\n",
      "\u001b[0;32m/Users/jburos/anaconda/envs/python3/lib/python3.5/multiprocessing/pool.py\u001b[0m in \u001b[0;36mwait\u001b[0;34m(self, timeout)\u001b[0m\n\u001b[1;32m    597\u001b[0m \u001b[0;34m\u001b[0m\u001b[0m\n\u001b[1;32m    598\u001b[0m     \u001b[0;32mdef\u001b[0m \u001b[0mwait\u001b[0m\u001b[0;34m(\u001b[0m\u001b[0mself\u001b[0m\u001b[0;34m,\u001b[0m \u001b[0mtimeout\u001b[0m\u001b[0;34m=\u001b[0m\u001b[0;32mNone\u001b[0m\u001b[0;34m)\u001b[0m\u001b[0;34m:\u001b[0m\u001b[0;34m\u001b[0m\u001b[0m\n\u001b[0;32m--> 599\u001b[0;31m         \u001b[0mself\u001b[0m\u001b[0;34m.\u001b[0m\u001b[0m_event\u001b[0m\u001b[0;34m.\u001b[0m\u001b[0mwait\u001b[0m\u001b[0;34m(\u001b[0m\u001b[0mtimeout\u001b[0m\u001b[0;34m)\u001b[0m\u001b[0;34m\u001b[0m\u001b[0m\n\u001b[0m\u001b[1;32m    600\u001b[0m \u001b[0;34m\u001b[0m\u001b[0m\n\u001b[1;32m    601\u001b[0m     \u001b[0;32mdef\u001b[0m \u001b[0mget\u001b[0m\u001b[0;34m(\u001b[0m\u001b[0mself\u001b[0m\u001b[0;34m,\u001b[0m \u001b[0mtimeout\u001b[0m\u001b[0;34m=\u001b[0m\u001b[0;32mNone\u001b[0m\u001b[0;34m)\u001b[0m\u001b[0;34m:\u001b[0m\u001b[0;34m\u001b[0m\u001b[0m\n",
      "\u001b[0;32m/Users/jburos/anaconda/envs/python3/lib/python3.5/threading.py\u001b[0m in \u001b[0;36mwait\u001b[0;34m(self, timeout)\u001b[0m\n\u001b[1;32m    547\u001b[0m             \u001b[0msignaled\u001b[0m \u001b[0;34m=\u001b[0m \u001b[0mself\u001b[0m\u001b[0;34m.\u001b[0m\u001b[0m_flag\u001b[0m\u001b[0;34m\u001b[0m\u001b[0m\n\u001b[1;32m    548\u001b[0m             \u001b[0;32mif\u001b[0m \u001b[0;32mnot\u001b[0m \u001b[0msignaled\u001b[0m\u001b[0;34m:\u001b[0m\u001b[0;34m\u001b[0m\u001b[0m\n\u001b[0;32m--> 549\u001b[0;31m                 \u001b[0msignaled\u001b[0m \u001b[0;34m=\u001b[0m \u001b[0mself\u001b[0m\u001b[0;34m.\u001b[0m\u001b[0m_cond\u001b[0m\u001b[0;34m.\u001b[0m\u001b[0mwait\u001b[0m\u001b[0;34m(\u001b[0m\u001b[0mtimeout\u001b[0m\u001b[0;34m)\u001b[0m\u001b[0;34m\u001b[0m\u001b[0m\n\u001b[0m\u001b[1;32m    550\u001b[0m             \u001b[0;32mreturn\u001b[0m \u001b[0msignaled\u001b[0m\u001b[0;34m\u001b[0m\u001b[0m\n\u001b[1;32m    551\u001b[0m \u001b[0;34m\u001b[0m\u001b[0m\n",
      "\u001b[0;32m/Users/jburos/anaconda/envs/python3/lib/python3.5/threading.py\u001b[0m in \u001b[0;36mwait\u001b[0;34m(self, timeout)\u001b[0m\n\u001b[1;32m    291\u001b[0m         \u001b[0;32mtry\u001b[0m\u001b[0;34m:\u001b[0m    \u001b[0;31m# restore state no matter what (e.g., KeyboardInterrupt)\u001b[0m\u001b[0;34m\u001b[0m\u001b[0m\n\u001b[1;32m    292\u001b[0m             \u001b[0;32mif\u001b[0m \u001b[0mtimeout\u001b[0m \u001b[0;32mis\u001b[0m \u001b[0;32mNone\u001b[0m\u001b[0;34m:\u001b[0m\u001b[0;34m\u001b[0m\u001b[0m\n\u001b[0;32m--> 293\u001b[0;31m                 \u001b[0mwaiter\u001b[0m\u001b[0;34m.\u001b[0m\u001b[0macquire\u001b[0m\u001b[0;34m(\u001b[0m\u001b[0;34m)\u001b[0m\u001b[0;34m\u001b[0m\u001b[0m\n\u001b[0m\u001b[1;32m    294\u001b[0m                 \u001b[0mgotit\u001b[0m \u001b[0;34m=\u001b[0m \u001b[0;32mTrue\u001b[0m\u001b[0;34m\u001b[0m\u001b[0m\n\u001b[1;32m    295\u001b[0m             \u001b[0;32melse\u001b[0m\u001b[0;34m:\u001b[0m\u001b[0;34m\u001b[0m\u001b[0m\n",
      "\u001b[0;31mKeyboardInterrupt\u001b[0m: "
     ]
    }
   ],
   "source": [
    "testfit = survivalstan.fit_stan_survival_model(\n",
    "    model_cohort = 'test model',\n",
    "    model_code = survivalstan.models.pem_survival_model_timevarying,\n",
    "    df = dlong,\n",
    "    sample_col = 'index',\n",
    "    timepoint_end_col = 'end_time',\n",
    "    event_col = 'end_failure',\n",
    "    formula = '~ age_centered + sex',\n",
    "    iter = 5000,\n",
    "    chains = 4,\n",
    "    seed = 9001,\n",
    "    FIT_FUN = stancache.cached_stan_fit,\n",
    "    )"
   ]
  },
  {
   "cell_type": "code",
   "execution_count": null,
   "metadata": {
    "collapsed": true
   },
   "outputs": [],
   "source": [
    "survivalstan.utils.print_stan_summary([testfit], pars='lp__')"
   ]
  },
  {
   "cell_type": "code",
   "execution_count": null,
   "metadata": {
    "collapsed": false
   },
   "outputs": [],
   "source": [
    "survivalstan.utils.plot_stan_summary([testfit], pars='log_baseline')"
   ]
  },
  {
   "cell_type": "code",
   "execution_count": null,
   "metadata": {
    "collapsed": false
   },
   "outputs": [],
   "source": [
    "survivalstan.utils.plot_coefs([testfit], element='baseline')"
   ]
  },
  {
   "cell_type": "code",
   "execution_count": null,
   "metadata": {
    "collapsed": false
   },
   "outputs": [],
   "source": [
    "survivalstan.utils.plot_coefs([testfit])"
   ]
  },
  {
   "cell_type": "code",
   "execution_count": null,
   "metadata": {
    "collapsed": false
   },
   "outputs": [],
   "source": [
    "survivalstan.utils.plot_pp_survival([testfit], fill=False)\n",
    "survivalstan.utils.plot_observed_survival(df=d, event_col='event', time_col='t', color='green', label='observed')\n",
    "plt.legend()"
   ]
  },
  {
   "cell_type": "code",
   "execution_count": null,
   "metadata": {
    "collapsed": false
   },
   "outputs": [],
   "source": [
    "survivalstan.utils.plot_pp_survival([testfit], by='sex')"
   ]
  },
  {
   "cell_type": "code",
   "execution_count": null,
   "metadata": {
    "collapsed": false
   },
   "outputs": [],
   "source": [
    "survivalstan.utils.plot_pp_survival([testfit], by='sex', pal=['red', 'blue'])\n",
    "survivalstan.utils.plot_observed_survival(df=d[d['sex']=='female'], event_col='event', time_col='t',\n",
    "                                          color='red', label='female')\n",
    "survivalstan.utils.plot_observed_survival(df=d[d['sex']=='male'], event_col='event', time_col='t',\n",
    "                                          color='blue', label='male')\n",
    "plt.legend()"
   ]
  },
  {
   "cell_type": "code",
   "execution_count": null,
   "metadata": {
    "collapsed": true
   },
   "outputs": [],
   "source": []
  }
 ],
 "metadata": {
  "anaconda-cloud": {},
  "kernelspec": {
   "display_name": "Python [conda env:python3]",
   "language": "python",
   "name": "conda-env-python3-py"
  },
  "language_info": {
   "codemirror_mode": {
    "name": "ipython",
    "version": 3
   },
   "file_extension": ".py",
   "mimetype": "text/x-python",
   "name": "python",
   "nbconvert_exporter": "python",
   "pygments_lexer": "ipython3",
   "version": "3.5.2"
  }
 },
 "nbformat": 4,
 "nbformat_minor": 0
}
