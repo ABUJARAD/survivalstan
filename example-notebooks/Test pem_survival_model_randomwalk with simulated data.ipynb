{
 "cells": [
  {
   "cell_type": "code",
   "execution_count": 9,
   "metadata": {
    "collapsed": false
   },
   "outputs": [
    {
     "name": "stdout",
     "output_type": "stream",
     "text": [
      "The autoreload extension is already loaded. To reload it, use:\n",
      "  %reload_ext autoreload\n"
     ]
    }
   ],
   "source": [
    "%load_ext autoreload\n",
    "%autoreload 2\n",
    "%matplotlib inline\n",
    "import random\n",
    "random.seed(1100038344)\n",
    "import survivalstan\n",
    "import numpy as np\n",
    "import pandas as pd\n",
    "from stancache import stancache\n",
    "from matplotlib import pyplot as plt"
   ]
  },
  {
   "cell_type": "code",
   "execution_count": 10,
   "metadata": {
    "collapsed": true
   },
   "outputs": [],
   "source": [
    "model_code = survivalstan.models.pem_survival_model_randomwalk"
   ]
  },
  {
   "cell_type": "code",
   "execution_count": 11,
   "metadata": {
    "collapsed": false
   },
   "outputs": [
    {
     "name": "stdout",
     "output_type": "stream",
     "text": [
      "/*  Variable naming:\n",
      " // dimensions\n",
      " N          = total number of observations (length of data)\n",
      " S          = number of sample ids\n",
      " T          = max timepoint (number of timepoint ids)\n",
      " M          = number of covariates\n",
      " \n",
      " // main data matrix (per observed timepoint*record)\n",
      " s          = sample id for each obs\n",
      " t          = timepoint id for each obs\n",
      " event      = integer indicating if there was an event at time t for sample s\n",
      " x          = matrix of real-valued covariates at time t for sample n [N, X]\n",
      " \n",
      " // timepoint-specific data (per timepoint, ordered by timepoint id)\n",
      " t_obs      = observed time since origin for each timepoint id (end of period)\n",
      " t_dur      = duration of each timepoint period (first diff of t_obs)\n",
      " \n",
      "*/\n",
      "// Jacqueline Buros Novik <jackinovik@gmail.com>\n",
      "\n",
      "\n",
      "data {\n",
      "  // dimensions\n",
      "  int<lower=1> N;\n",
      "  int<lower=1> S;\n",
      "  int<lower=1> T;\n",
      "  int<lower=0> M;\n",
      "  \n",
      "  // data matrix\n",
      "  int<lower=1, upper=N> s[N];     // sample id\n",
      "  int<lower=1, upper=T> t[N];     // timepoint id\n",
      "  int<lower=0, upper=1> event[N]; // 1: event, 0:censor\n",
      "  matrix[N, M] x;                 // explanatory vars\n",
      "  \n",
      "  // timepoint data\n",
      "  vector<lower=0>[T] t_obs;\n",
      "  vector<lower=0>[T] t_dur;\n",
      "}\n",
      "transformed data {\n",
      "  vector[T] log_t_dur;  // log-duration for each timepoint\n",
      "  int n_trans[S, T];  \n",
      "  \n",
      "  log_t_dur = log(t_obs);\n",
      "  \n",
      "  // n_trans used to map each sample*timepoint to n (used in gen quantities)\n",
      "  // map each patient/timepoint combination to n values\n",
      "  for (n in 1:N) {\n",
      "      n_trans[s[n], t[n]] = n;\n",
      "  }\n",
      "\n",
      "  // fill in missing values with n for max t for that patient\n",
      "  // ie assume \"last observed\" state applies forward (may be problematic for TVC)\n",
      "  // this allows us to predict failure times >= observed survival times\n",
      "  for (samp in 1:S) {\n",
      "      int last_value;\n",
      "      last_value = 0;\n",
      "      for (tp in 1:T) {\n",
      "          // manual says ints are initialized to neg values\n",
      "          // so <=0 is a shorthand for \"unassigned\"\n",
      "          if (n_trans[samp, tp] <= 0 && last_value != 0) {\n",
      "              n_trans[samp, tp] = last_value;\n",
      "          } else {\n",
      "              last_value = n_trans[samp, tp];\n",
      "          }\n",
      "      }\n",
      "  }\n",
      "}\n",
      "parameters {\n",
      "  vector[T] log_baseline_raw; // unstructured baseline hazard for each timepoint t\n",
      "  vector[M] beta;                      // beta for each covariate\n",
      "  real<lower=0> baseline_sigma;\n",
      "  real log_baseline_mu;\n",
      "}\n",
      "transformed parameters {\n",
      "  vector[N] log_hazard;\n",
      "  vector[T] log_baseline;\n",
      "  \n",
      "  log_baseline = log_baseline_raw + log_t_dur;\n",
      "  \n",
      "  for (n in 1:N) {\n",
      "    log_hazard[n] = log_baseline_mu + log_baseline[t[n]] + x[n,]*beta;\n",
      "  }\n",
      "}\n",
      "model {\n",
      "  beta ~ cauchy(0, 2);\n",
      "  event ~ poisson_log(log_hazard);\n",
      "  log_baseline_mu ~ normal(0, 1);\n",
      "  baseline_sigma ~ normal(0, 1);\n",
      "  log_baseline_raw[1] ~ normal(0, 1);\n",
      "  for (i in 2:T) {\n",
      "      log_baseline_raw[i] ~ normal(log_baseline_raw[i-1], baseline_sigma);\n",
      "  }\n",
      "}\n",
      "generated quantities {\n",
      "  real log_lik[N];\n",
      "  vector[T] baseline;\n",
      "  int y_hat_mat[S, T];     // ppcheck for each S*T combination\n",
      "  real y_hat_time[S];      // predicted failure time for each sample\n",
      "  int y_hat_event[S];      // predicted event (0:censor, 1:event)\n",
      "  \n",
      "  // compute raw baseline hazard, for summary/plotting\n",
      "  baseline = exp(log_baseline_raw);\n",
      "  \n",
      "  for (n in 1:N) {\n",
      "      log_lik[n] <- poisson_log_lpmf(event[n] | log_hazard[n]);\n",
      "  }\n",
      "  \n",
      "  // posterior predicted values\n",
      "  for (samp in 1:S) {\n",
      "      int sample_alive;\n",
      "      sample_alive = 1;\n",
      "      for (tp in 1:T) {\n",
      "        if (sample_alive == 1) {\n",
      "              int n;\n",
      "              int pred_y;\n",
      "              real log_haz;\n",
      "              \n",
      "              // determine predicted value of y\n",
      "              // (need to recalc so that carried-forward data use sim tp and not t[n])\n",
      "              n = n_trans[samp, tp];\n",
      "              log_haz = log_baseline_mu + log_baseline[tp] + x[n,]*beta;\n",
      "              if (log_haz < log(pow(2, 30))) \n",
      "                  pred_y = poisson_log_rng(log_haz);\n",
      "              else\n",
      "                  pred_y = 9; \n",
      "              \n",
      "              // mark this patient as ineligible for future tps\n",
      "              // note: deliberately make 9s ineligible \n",
      "              if (pred_y >= 1) {\n",
      "                  sample_alive = 0;\n",
      "                  y_hat_time[samp] = t_obs[tp];\n",
      "                  y_hat_event[samp] = 1;\n",
      "              }\n",
      "              \n",
      "              // save predicted value of y to matrix\n",
      "              y_hat_mat[samp, tp] = pred_y;\n",
      "          }\n",
      "          else if (sample_alive == 0) {\n",
      "              y_hat_mat[samp, tp] = 9;\n",
      "          } \n",
      "      } // end per-timepoint loop\n",
      "      \n",
      "      // if patient still alive at max\n",
      "      // \n",
      "      if (sample_alive == 1) {\n",
      "          y_hat_time[samp] = t_obs[T];\n",
      "          y_hat_event[samp] = 0;\n",
      "      }\n",
      "  } // end per-sample loop\n",
      "}\n",
      "\n"
     ]
    }
   ],
   "source": [
    "print(model_code)"
   ]
  },
  {
   "cell_type": "code",
   "execution_count": 12,
   "metadata": {
    "collapsed": false
   },
   "outputs": [
    {
     "name": "stderr",
     "output_type": "stream",
     "text": [
      "INFO:stancache.stancache:sim_data_exp_correlated: cache_filename set to sim_data_exp_correlated.cached.N_100.censor_time_20.rate_coefs_54462717316.rate_form_1 + sex.pkl\n",
      "INFO:stancache.stancache:sim_data_exp_correlated: Loading result from cache\n"
     ]
    },
    {
     "data": {
      "text/html": [
       "<div>\n",
       "<table border=\"1\" class=\"dataframe\">\n",
       "  <thead>\n",
       "    <tr style=\"text-align: right;\">\n",
       "      <th></th>\n",
       "      <th>age</th>\n",
       "      <th>sex</th>\n",
       "      <th>rate</th>\n",
       "      <th>true_t</th>\n",
       "      <th>t</th>\n",
       "      <th>event</th>\n",
       "      <th>index</th>\n",
       "      <th>age_centered</th>\n",
       "    </tr>\n",
       "  </thead>\n",
       "  <tbody>\n",
       "    <tr>\n",
       "      <th>0</th>\n",
       "      <td>56</td>\n",
       "      <td>male</td>\n",
       "      <td>0.082085</td>\n",
       "      <td>3.690371</td>\n",
       "      <td>3.690371</td>\n",
       "      <td>True</td>\n",
       "      <td>0</td>\n",
       "      <td>0.61</td>\n",
       "    </tr>\n",
       "    <tr>\n",
       "      <th>1</th>\n",
       "      <td>53</td>\n",
       "      <td>male</td>\n",
       "      <td>0.082085</td>\n",
       "      <td>1.574213</td>\n",
       "      <td>1.574213</td>\n",
       "      <td>True</td>\n",
       "      <td>1</td>\n",
       "      <td>-2.39</td>\n",
       "    </tr>\n",
       "    <tr>\n",
       "      <th>2</th>\n",
       "      <td>43</td>\n",
       "      <td>male</td>\n",
       "      <td>0.082085</td>\n",
       "      <td>29.095240</td>\n",
       "      <td>20.000000</td>\n",
       "      <td>False</td>\n",
       "      <td>2</td>\n",
       "      <td>-12.39</td>\n",
       "    </tr>\n",
       "    <tr>\n",
       "      <th>3</th>\n",
       "      <td>50</td>\n",
       "      <td>male</td>\n",
       "      <td>0.082085</td>\n",
       "      <td>1.017584</td>\n",
       "      <td>1.017584</td>\n",
       "      <td>True</td>\n",
       "      <td>3</td>\n",
       "      <td>-5.39</td>\n",
       "    </tr>\n",
       "    <tr>\n",
       "      <th>4</th>\n",
       "      <td>45</td>\n",
       "      <td>male</td>\n",
       "      <td>0.082085</td>\n",
       "      <td>40.317564</td>\n",
       "      <td>20.000000</td>\n",
       "      <td>False</td>\n",
       "      <td>4</td>\n",
       "      <td>-10.39</td>\n",
       "    </tr>\n",
       "  </tbody>\n",
       "</table>\n",
       "</div>"
      ],
      "text/plain": [
       "   age   sex      rate     true_t          t  event  index  age_centered\n",
       "0   56  male  0.082085   3.690371   3.690371   True      0          0.61\n",
       "1   53  male  0.082085   1.574213   1.574213   True      1         -2.39\n",
       "2   43  male  0.082085  29.095240  20.000000  False      2        -12.39\n",
       "3   50  male  0.082085   1.017584   1.017584   True      3         -5.39\n",
       "4   45  male  0.082085  40.317564  20.000000  False      4        -10.39"
      ]
     },
     "execution_count": 12,
     "metadata": {},
     "output_type": "execute_result"
    }
   ],
   "source": [
    "d = stancache.cached(\n",
    "    survivalstan.sim.sim_data_exp_correlated,\n",
    "    N=100,\n",
    "    censor_time=20,\n",
    "    rate_form='1 + sex',\n",
    "    rate_coefs=[-3, 0.5],\n",
    ")\n",
    "d['age_centered'] = d['age'] - d['age'].mean()\n",
    "d.head()"
   ]
  },
  {
   "cell_type": "code",
   "execution_count": 13,
   "metadata": {
    "collapsed": false
   },
   "outputs": [
    {
     "data": {
      "text/plain": [
       "<matplotlib.legend.Legend at 0x112462f28>"
      ]
     },
     "execution_count": 13,
     "metadata": {},
     "output_type": "execute_result"
    },
    {
     "data": {
      "image/png": "[encoded data removed]",
      "text/plain": [
       "<matplotlib.figure.Figure at 0x112462cc0>"
      ]
     },
     "metadata": {},
     "output_type": "display_data"
    }
   ],
   "source": [
    "survivalstan.utils.plot_observed_survival(df=d[d['sex']=='female'], event_col='event', time_col='t', label='female')\n",
    "survivalstan.utils.plot_observed_survival(df=d[d['sex']=='male'], event_col='event', time_col='t', label='male')\n",
    "plt.legend()"
   ]
  },
  {
   "cell_type": "code",
   "execution_count": 14,
   "metadata": {
    "collapsed": false
   },
   "outputs": [],
   "source": [
    "dlong = survivalstan.prep_data_long_surv(df=d, event_col='event', time_col='t')\n",
    "dlong.sort_values(['index','end_time'], inplace=True)"
   ]
  },
  {
   "cell_type": "code",
   "execution_count": null,
   "metadata": {
    "collapsed": false
   },
   "outputs": [
    {
     "data": {
      "text/html": [
       "<div>\n",
       "<table border=\"1\" class=\"dataframe\">\n",
       "  <thead>\n",
       "    <tr style=\"text-align: right;\">\n",
       "      <th></th>\n",
       "      <th>age</th>\n",
       "      <th>sex</th>\n",
       "      <th>rate</th>\n",
       "      <th>true_t</th>\n",
       "      <th>t</th>\n",
       "      <th>event</th>\n",
       "      <th>index</th>\n",
       "      <th>age_centered</th>\n",
       "      <th>key</th>\n",
       "      <th>end_time</th>\n",
       "      <th>end_failure</th>\n",
       "    </tr>\n",
       "  </thead>\n",
       "  <tbody>\n",
       "    <tr>\n",
       "      <th>22</th>\n",
       "      <td>56</td>\n",
       "      <td>male</td>\n",
       "      <td>0.082085</td>\n",
       "      <td>3.690371</td>\n",
       "      <td>3.690371</td>\n",
       "      <td>True</td>\n",
       "      <td>0</td>\n",
       "      <td>0.61</td>\n",
       "      <td>1</td>\n",
       "      <td>0.447637</td>\n",
       "      <td>False</td>\n",
       "    </tr>\n",
       "    <tr>\n",
       "      <th>24</th>\n",
       "      <td>56</td>\n",
       "      <td>male</td>\n",
       "      <td>0.082085</td>\n",
       "      <td>3.690371</td>\n",
       "      <td>3.690371</td>\n",
       "      <td>True</td>\n",
       "      <td>0</td>\n",
       "      <td>0.61</td>\n",
       "      <td>1</td>\n",
       "      <td>0.676653</td>\n",
       "      <td>False</td>\n",
       "    </tr>\n",
       "    <tr>\n",
       "      <th>63</th>\n",
       "      <td>56</td>\n",
       "      <td>male</td>\n",
       "      <td>0.082085</td>\n",
       "      <td>3.690371</td>\n",
       "      <td>3.690371</td>\n",
       "      <td>True</td>\n",
       "      <td>0</td>\n",
       "      <td>0.61</td>\n",
       "      <td>1</td>\n",
       "      <td>0.810536</td>\n",
       "      <td>False</td>\n",
       "    </tr>\n",
       "    <tr>\n",
       "      <th>3</th>\n",
       "      <td>56</td>\n",
       "      <td>male</td>\n",
       "      <td>0.082085</td>\n",
       "      <td>3.690371</td>\n",
       "      <td>3.690371</td>\n",
       "      <td>True</td>\n",
       "      <td>0</td>\n",
       "      <td>0.61</td>\n",
       "      <td>1</td>\n",
       "      <td>1.017584</td>\n",
       "      <td>False</td>\n",
       "    </tr>\n",
       "    <tr>\n",
       "      <th>7</th>\n",
       "      <td>56</td>\n",
       "      <td>male</td>\n",
       "      <td>0.082085</td>\n",
       "      <td>3.690371</td>\n",
       "      <td>3.690371</td>\n",
       "      <td>True</td>\n",
       "      <td>0</td>\n",
       "      <td>0.61</td>\n",
       "      <td>1</td>\n",
       "      <td>1.292124</td>\n",
       "      <td>False</td>\n",
       "    </tr>\n",
       "  </tbody>\n",
       "</table>\n",
       "</div>"
      ],
      "text/plain": [
       "    age   sex      rate    true_t         t event  index  age_centered  key  \\\n",
       "22   56  male  0.082085  3.690371  3.690371  True      0          0.61    1   \n",
       "24   56  male  0.082085  3.690371  3.690371  True      0          0.61    1   \n",
       "63   56  male  0.082085  3.690371  3.690371  True      0          0.61    1   \n",
       "3    56  male  0.082085  3.690371  3.690371  True      0          0.61    1   \n",
       "7    56  male  0.082085  3.690371  3.690371  True      0          0.61    1   \n",
       "\n",
       "    end_time end_failure  \n",
       "22  0.447637       False  \n",
       "24  0.676653       False  \n",
       "63  0.810536       False  \n",
       "3   1.017584       False  \n",
       "7   1.292124       False  "
      ]
     },
     "execution_count": 15,
     "metadata": {},
     "output_type": "execute_result"
    }
   ],
   "source": [
    "dlong.head()"
   ]
  },
  {
   "cell_type": "code",
   "execution_count": null,
   "metadata": {
    "collapsed": false
   },
   "outputs": [
    {
     "name": "stderr",
     "output_type": "stream",
     "text": [
      "INFO:stancache.stancache:Step 1: Get compiled model code, possibly from cache\n",
      "INFO:stancache.stancache:StanModel: cache_filename set to anon_model.cython_0_25_1.model_code_15125303112.pystan_2_12_0_0.stanmodel.pkl\n",
      "INFO:stancache.stancache:StanModel: Loading result from cache\n",
      "INFO:stancache.stancache:Step 2: Get posterior draws from model, possibly from cache\n",
      "INFO:stancache.stancache:sampling: cache_filename set to anon_model.cython_0_25_1.model_code_15125303112.pystan_2_12_0_0.stanfit.chains_4.data_133439588.iter_5000.seed_9001.pkl\n",
      "INFO:stancache.stancache:sampling: Starting execution\n"
     ]
    }
   ],
   "source": [
    "testfit = survivalstan.fit_stan_survival_model(\n",
    "    model_cohort = 'test model',\n",
    "    model_code = model_code,\n",
    "    df = dlong,\n",
    "    sample_col = 'index',\n",
    "    timepoint_end_col = 'end_time',\n",
    "    event_col = 'end_failure',\n",
    "    formula = '~ age_centered + sex',\n",
    "    iter = 5000,\n",
    "    chains = 4,\n",
    "    seed = 9001,\n",
    "    FIT_FUN = stancache.cached_stan_fit,\n",
    "    )\n"
   ]
  },
  {
   "cell_type": "code",
   "execution_count": null,
   "metadata": {
    "collapsed": false
   },
   "outputs": [],
   "source": [
    "survivalstan.utils.print_stan_summary([testfit], pars='lp__')"
   ]
  },
  {
   "cell_type": "code",
   "execution_count": null,
   "metadata": {
    "collapsed": false
   },
   "outputs": [],
   "source": [
    "survivalstan.utils.print_stan_summary([testfit], pars='log_baseline_raw')"
   ]
  },
  {
   "cell_type": "code",
   "execution_count": null,
   "metadata": {
    "collapsed": false
   },
   "outputs": [],
   "source": [
    "survivalstan.utils.plot_stan_summary([testfit], pars='log_baseline_raw')"
   ]
  },
  {
   "cell_type": "code",
   "execution_count": null,
   "metadata": {
    "collapsed": false
   },
   "outputs": [],
   "source": [
    "survivalstan.utils.plot_coefs([testfit], element='baseline')"
   ]
  },
  {
   "cell_type": "code",
   "execution_count": null,
   "metadata": {
    "collapsed": false
   },
   "outputs": [],
   "source": [
    "survivalstan.utils.plot_coefs([testfit])"
   ]
  },
  {
   "cell_type": "code",
   "execution_count": null,
   "metadata": {
    "collapsed": false
   },
   "outputs": [],
   "source": [
    "survivalstan.utils.plot_pp_survival([testfit], fill=False)\n",
    "survivalstan.utils.plot_observed_survival(df=d, event_col='event', time_col='t', color='green', label='observed')\n",
    "plt.legend()"
   ]
  },
  {
   "cell_type": "code",
   "execution_count": null,
   "metadata": {
    "collapsed": false
   },
   "outputs": [],
   "source": [
    "survivalstan.utils.plot_pp_survival([testfit], by='sex')"
   ]
  },
  {
   "cell_type": "code",
   "execution_count": null,
   "metadata": {
    "collapsed": true
   },
   "outputs": [],
   "source": []
  }
 ],
 "metadata": {
  "anaconda-cloud": {},
  "kernelspec": {
   "display_name": "Python [conda env:python3]",
   "language": "python",
   "name": "conda-env-python3-py"
  },
  "language_info": {
   "codemirror_mode": {
    "name": "ipython",
    "version": 3
   },
   "file_extension": ".py",
   "mimetype": "text/x-python",
   "name": "python",
   "nbconvert_exporter": "python",
   "pygments_lexer": "ipython3",
   "version": "3.5.2"
  }
 },
 "nbformat": 4,
 "nbformat_minor": 0
}
