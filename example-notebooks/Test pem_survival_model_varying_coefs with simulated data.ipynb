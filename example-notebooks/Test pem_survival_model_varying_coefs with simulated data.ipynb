{
 "cells": [
  {
   "cell_type": "markdown",
   "metadata": {},
   "source": [
    "### I. The model: Hierarchical interactions\n",
    "\n",
    "Measure the deviation from $X1$ that $X2$ contributes.\n",
    "\n",
    "Bladder example: [Review interaction of TCR clonality with PD-L1 status](https://github.com/hammerlab/bladder-analyses/blob/reviewer-response/analyses/notebooks/2017-01-05%20review%20interaction%20TCR%20clonality%20by%20PD-L1%20status.ipynb)"
   ]
  },
  {
   "cell_type": "markdown",
   "metadata": {},
   "source": [
    "### II. Stan code for the model\n",
    "\n",
    "https://github.com/hammerlab/survivalstan/blob/master/survivalstan/stan/pem_survival_model_varying_coefs.stan"
   ]
  },
  {
   "cell_type": "markdown",
   "metadata": {},
   "source": [
    "###  III. Simulate survival data"
   ]
  },
  {
   "cell_type": "code",
   "execution_count": 4,
   "metadata": {
    "collapsed": false
   },
   "outputs": [
    {
     "name": "stdout",
     "output_type": "stream",
     "text": [
      "The autoreload extension is already loaded. To reload it, use:\n",
      "  %reload_ext "
     ]
    },
    {
     "name": "stderr",
     "output_type": "stream",
     "text": [
      "INFO:stancache.seed:Setting seed to 1245502385\n"
     ]
    },
    {
     "name": "stdout",
     "output_type": "stream",
     "text": [
      "autoreload\n"
     ]
    }
   ],
   "source": [
    "%load_ext autoreload\n",
    "%autoreload 2\n",
    "%matplotlib inline\n",
    "import random\n",
    "random.seed(1100038344)\n",
    "import survivalstan\n",
    "import numpy as np\n",
    "import pandas as pd\n",
    "from stancache import stancache\n",
    "from matplotlib import pyplot as plt"
   ]
  },
  {
   "cell_type": "code",
   "execution_count": 5,
   "metadata": {
    "collapsed": false
   },
   "outputs": [
    {
     "name": "stderr",
     "output_type": "stream",
     "text": [
      "INFO:stancache.stancache:sim_data_exp_correlated: cache_filename set to sim_data_exp_correlated.cached.N_100.censor_time_20.rate_coefs_21453428780.rate_form_1 + sex.pkl\n",
      "INFO:stancache.stancache:sim_data_exp_correlated: Starting execution\n",
      "INFO:stancache.stancache:sim_data_exp_correlated: Execution completed (0:00:00.092989 elapsed)\n",
      "INFO:stancache.stancache:sim_data_exp_correlated: Saving results to cache\n"
     ]
    }
   ],
   "source": [
    "d = stancache.cached(\n",
    "    survivalstan.sim.sim_data_exp_correlated,\n",
    "    N=100,\n",
    "    censor_time=20,\n",
    "    rate_form='1 + sex',\n",
    "    rate_coefs=[-3, 0.5],\n",
    ")\n",
    "d['age_centered'] = d['age'] - d['age'].mean()\n"
   ]
  },
  {
   "cell_type": "markdown",
   "metadata": {},
   "source": [
    "### IV. Explore simulated data"
   ]
  },
  {
   "cell_type": "code",
   "execution_count": 7,
   "metadata": {
    "collapsed": false,
    "scrolled": true
   },
   "outputs": [
    {
     "data": {
      "text/html": [
       "<div>\n",
       "<table border=\"1\" class=\"dataframe\">\n",
       "  <thead>\n",
       "    <tr style=\"text-align: right;\">\n",
       "      <th></th>\n",
       "      <th>age</th>\n",
       "      <th>sex</th>\n",
       "      <th>rate</th>\n",
       "      <th>true_t</th>\n",
       "      <th>t</th>\n",
       "      <th>event</th>\n",
       "      <th>index</th>\n",
       "      <th>age_centered</th>\n",
       "    </tr>\n",
       "  </thead>\n",
       "  <tbody>\n",
       "    <tr>\n",
       "      <th>0</th>\n",
       "      <td>52</td>\n",
       "      <td>male</td>\n",
       "      <td>0.082085</td>\n",
       "      <td>3.040497</td>\n",
       "      <td>3.040497</td>\n",
       "      <td>True</td>\n",
       "      <td>0</td>\n",
       "      <td>-3.78</td>\n",
       "    </tr>\n",
       "    <tr>\n",
       "      <th>1</th>\n",
       "      <td>54</td>\n",
       "      <td>male</td>\n",
       "      <td>0.082085</td>\n",
       "      <td>6.048914</td>\n",
       "      <td>6.048914</td>\n",
       "      <td>True</td>\n",
       "      <td>1</td>\n",
       "      <td>-1.78</td>\n",
       "    </tr>\n",
       "    <tr>\n",
       "      <th>2</th>\n",
       "      <td>61</td>\n",
       "      <td>male</td>\n",
       "      <td>0.082085</td>\n",
       "      <td>3.549959</td>\n",
       "      <td>3.549959</td>\n",
       "      <td>True</td>\n",
       "      <td>2</td>\n",
       "      <td>5.22</td>\n",
       "    </tr>\n",
       "    <tr>\n",
       "      <th>3</th>\n",
       "      <td>60</td>\n",
       "      <td>male</td>\n",
       "      <td>0.082085</td>\n",
       "      <td>6.663483</td>\n",
       "      <td>6.663483</td>\n",
       "      <td>True</td>\n",
       "      <td>3</td>\n",
       "      <td>4.22</td>\n",
       "    </tr>\n",
       "    <tr>\n",
       "      <th>4</th>\n",
       "      <td>54</td>\n",
       "      <td>male</td>\n",
       "      <td>0.082085</td>\n",
       "      <td>2.385216</td>\n",
       "      <td>2.385216</td>\n",
       "      <td>True</td>\n",
       "      <td>4</td>\n",
       "      <td>-1.78</td>\n",
       "    </tr>\n",
       "  </tbody>\n",
       "</table>\n",
       "</div>"
      ],
      "text/plain": [
       "   age   sex      rate    true_t         t event  index  age_centered\n",
       "0   52  male  0.082085  3.040497  3.040497  True      0         -3.78\n",
       "1   54  male  0.082085  6.048914  6.048914  True      1         -1.78\n",
       "2   61  male  0.082085  3.549959  3.549959  True      2          5.22\n",
       "3   60  male  0.082085  6.663483  6.663483  True      3          4.22\n",
       "4   54  male  0.082085  2.385216  2.385216  True      4         -1.78"
      ]
     },
     "execution_count": 7,
     "metadata": {},
     "output_type": "execute_result"
    }
   ],
   "source": [
    "d.head()"
   ]
  },
  {
   "cell_type": "code",
   "execution_count": 8,
   "metadata": {
    "collapsed": false
   },
   "outputs": [
    {
     "data": {
      "text/plain": [
       "<matplotlib.legend.Legend at 0x10f3f6fd0>"
      ]
     },
     "execution_count": 8,
     "metadata": {},
     "output_type": "execute_result"
    },
    {
     "data": {
      "image/png": "[encoded data removed]",
      "text/plain": [
       "<matplotlib.figure.Figure at 0x10f358190>"
      ]
     },
     "metadata": {},
     "output_type": "display_data"
    }
   ],
   "source": [
    "survivalstan.utils.plot_observed_survival(df=d[d['sex']=='female'], event_col='event', time_col='t', label='female')\n",
    "survivalstan.utils.plot_observed_survival(df=d[d['sex']=='male'], event_col='event', time_col='t', label='male')\n",
    "plt.legend()"
   ]
  },
  {
   "cell_type": "code",
   "execution_count": null,
   "metadata": {
    "collapsed": true
   },
   "outputs": [],
   "source": []
  },
  {
   "cell_type": "markdown",
   "metadata": {},
   "source": [
    "### V. Transform to long or per-timepoint form"
   ]
  },
  {
   "cell_type": "code",
   "execution_count": 9,
   "metadata": {
    "collapsed": false
   },
   "outputs": [
    {
     "name": "stderr",
     "output_type": "stream",
     "text": [
      "INFO:stancache.stancache:prep_data_long_surv: cache_filename set to prep_data_long_surv.cached.df_61796442086.event_col_event.time_col_t.pkl\n",
      "INFO:stancache.stancache:prep_data_long_surv: Starting execution\n",
      "INFO:stancache.stancache:prep_data_long_surv: Execution completed (0:00:00.474755 elapsed)\n",
      "INFO:stancache.stancache:prep_data_long_surv: Saving results to cache\n"
     ]
    }
   ],
   "source": [
    "dlong = stancache.cached(\n",
    "    survivalstan.prep_data_long_surv,\n",
    "    df=d, event_col='event', time_col='t'\n",
    ")"
   ]
  },
  {
   "cell_type": "code",
   "execution_count": 10,
   "metadata": {
    "collapsed": false
   },
   "outputs": [
    {
     "data": {
      "text/html": [
       "<div>\n",
       "<table border=\"1\" class=\"dataframe\">\n",
       "  <thead>\n",
       "    <tr style=\"text-align: right;\">\n",
       "      <th></th>\n",
       "      <th>age</th>\n",
       "      <th>sex</th>\n",
       "      <th>rate</th>\n",
       "      <th>true_t</th>\n",
       "      <th>t</th>\n",
       "      <th>event</th>\n",
       "      <th>index</th>\n",
       "      <th>age_centered</th>\n",
       "      <th>key</th>\n",
       "      <th>end_time</th>\n",
       "      <th>end_failure</th>\n",
       "    </tr>\n",
       "  </thead>\n",
       "  <tbody>\n",
       "    <tr>\n",
       "      <th>88</th>\n",
       "      <td>54</td>\n",
       "      <td>male</td>\n",
       "      <td>0.082085</td>\n",
       "      <td>6.048914</td>\n",
       "      <td>6.048914</td>\n",
       "      <td>True</td>\n",
       "      <td>1</td>\n",
       "      <td>-1.78</td>\n",
       "      <td>1</td>\n",
       "      <td>0.079408</td>\n",
       "      <td>False</td>\n",
       "    </tr>\n",
       "    <tr>\n",
       "      <th>93</th>\n",
       "      <td>54</td>\n",
       "      <td>male</td>\n",
       "      <td>0.082085</td>\n",
       "      <td>6.048914</td>\n",
       "      <td>6.048914</td>\n",
       "      <td>True</td>\n",
       "      <td>1</td>\n",
       "      <td>-1.78</td>\n",
       "      <td>1</td>\n",
       "      <td>0.206476</td>\n",
       "      <td>False</td>\n",
       "    </tr>\n",
       "    <tr>\n",
       "      <th>86</th>\n",
       "      <td>54</td>\n",
       "      <td>male</td>\n",
       "      <td>0.082085</td>\n",
       "      <td>6.048914</td>\n",
       "      <td>6.048914</td>\n",
       "      <td>True</td>\n",
       "      <td>1</td>\n",
       "      <td>-1.78</td>\n",
       "      <td>1</td>\n",
       "      <td>0.219319</td>\n",
       "      <td>False</td>\n",
       "    </tr>\n",
       "    <tr>\n",
       "      <th>147</th>\n",
       "      <td>54</td>\n",
       "      <td>male</td>\n",
       "      <td>0.082085</td>\n",
       "      <td>6.048914</td>\n",
       "      <td>6.048914</td>\n",
       "      <td>True</td>\n",
       "      <td>1</td>\n",
       "      <td>-1.78</td>\n",
       "      <td>1</td>\n",
       "      <td>0.388420</td>\n",
       "      <td>False</td>\n",
       "    </tr>\n",
       "    <tr>\n",
       "      <th>107</th>\n",
       "      <td>54</td>\n",
       "      <td>male</td>\n",
       "      <td>0.082085</td>\n",
       "      <td>6.048914</td>\n",
       "      <td>6.048914</td>\n",
       "      <td>True</td>\n",
       "      <td>1</td>\n",
       "      <td>-1.78</td>\n",
       "      <td>1</td>\n",
       "      <td>0.423732</td>\n",
       "      <td>False</td>\n",
       "    </tr>\n",
       "  </tbody>\n",
       "</table>\n",
       "</div>"
      ],
      "text/plain": [
       "     age   sex      rate    true_t         t event  index  age_centered  key  \\\n",
       "88    54  male  0.082085  6.048914  6.048914  True      1         -1.78    1   \n",
       "93    54  male  0.082085  6.048914  6.048914  True      1         -1.78    1   \n",
       "86    54  male  0.082085  6.048914  6.048914  True      1         -1.78    1   \n",
       "147   54  male  0.082085  6.048914  6.048914  True      1         -1.78    1   \n",
       "107   54  male  0.082085  6.048914  6.048914  True      1         -1.78    1   \n",
       "\n",
       "     end_time end_failure  \n",
       "88   0.079408       False  \n",
       "93   0.206476       False  \n",
       "86   0.219319       False  \n",
       "147  0.388420       False  \n",
       "107  0.423732       False  "
      ]
     },
     "execution_count": 10,
     "metadata": {},
     "output_type": "execute_result"
    }
   ],
   "source": [
    "dlong.query('index == 1').sort_values('end_time').head()"
   ]
  },
  {
   "cell_type": "markdown",
   "metadata": {},
   "source": [
    "### VI. Fit stan model"
   ]
  },
  {
   "cell_type": "code",
   "execution_count": null,
   "metadata": {
    "collapsed": false
   },
   "outputs": [
    {
     "name": "stderr",
     "output_type": "stream",
     "text": [
      "INFO:stancache.stancache:Step 1: Get compiled model code, possibly from cache\n",
      "INFO:stancache.stancache:StanModel: cache_filename set to anon_model.cython_0_25_2.model_code_16981651761948111690.pystan_2_14_0_0.stanmodel.pkl\n",
      "INFO:stancache.stancache:StanModel: Loading result from cache\n",
      "INFO:stancache.stancache:Step 2: Get posterior draws from model, possibly from cache\n",
      "INFO:stancache.stancache:sampling: cache_filename set to anon_model.cython_0_25_2.model_code_16981651761948111690.pystan_2_14_0_0.stanfit.chains_4.data_33949485488.iter_5000.seed_9001.pkl\n",
      "INFO:stancache.stancache:sampling: Starting execution\n"
     ]
    }
   ],
   "source": [
    "testfit = survivalstan.fit_stan_survival_model(\n",
    "    model_cohort = 'test model',\n",
    "    model_code = survivalstan.models.pem_survival_model_varying_coefs,\n",
    "    \n",
    "    df = dlong,\n",
    "    sample_col = 'index',\n",
    "    timepoint_end_col = 'end_time',\n",
    "    event_col = 'end_failure',\n",
    "    iter = 5000,\n",
    "    chains = 4,\n",
    "    seed = 9001,\n",
    "    formula = '~ age_centered',\n",
    "    group_col = 'sex',\n",
    "    FIT_FUN = stancache.cached_stan_fit,\n",
    "    )"
   ]
  },
  {
   "cell_type": "code",
   "execution_count": null,
   "metadata": {
    "collapsed": true
   },
   "outputs": [],
   "source": []
  },
  {
   "cell_type": "code",
   "execution_count": null,
   "metadata": {
    "collapsed": true
   },
   "outputs": [],
   "source": []
  },
  {
   "cell_type": "markdown",
   "metadata": {},
   "source": [
    "\n",
    "\n",
    "### VII. Superficial review of convergence \n",
    "\n",
    "### 8. Plot posterior estimates of parameters\n",
    "\n",
    "### 9. Posterior predictive checking"
   ]
  },
  {
   "cell_type": "code",
   "execution_count": null,
   "metadata": {
    "collapsed": true
   },
   "outputs": [],
   "source": []
  },
  {
   "cell_type": "code",
   "execution_count": null,
   "metadata": {
    "collapsed": true
   },
   "outputs": [],
   "source": []
  },
  {
   "cell_type": "code",
   "execution_count": null,
   "metadata": {
    "collapsed": true
   },
   "outputs": [],
   "source": []
  },
  {
   "cell_type": "code",
   "execution_count": null,
   "metadata": {
    "collapsed": true
   },
   "outputs": [],
   "source": []
  },
  {
   "cell_type": "code",
   "execution_count": null,
   "metadata": {
    "collapsed": true
   },
   "outputs": [],
   "source": []
  },
  {
   "cell_type": "code",
   "execution_count": null,
   "metadata": {
    "collapsed": true
   },
   "outputs": [],
   "source": []
  },
  {
   "cell_type": "code",
   "execution_count": null,
   "metadata": {
    "collapsed": true
   },
   "outputs": [],
   "source": []
  },
  {
   "cell_type": "code",
   "execution_count": null,
   "metadata": {
    "collapsed": true
   },
   "outputs": [],
   "source": []
  },
  {
   "cell_type": "code",
   "execution_count": null,
   "metadata": {
    "collapsed": true
   },
   "outputs": [],
   "source": []
  },
  {
   "cell_type": "code",
   "execution_count": null,
   "metadata": {
    "collapsed": true
   },
   "outputs": [],
   "source": []
  },
  {
   "cell_type": "code",
   "execution_count": null,
   "metadata": {
    "collapsed": true
   },
   "outputs": [],
   "source": []
  },
  {
   "cell_type": "code",
   "execution_count": null,
   "metadata": {
    "collapsed": true
   },
   "outputs": [],
   "source": []
  },
  {
   "cell_type": "code",
   "execution_count": null,
   "metadata": {
    "collapsed": true
   },
   "outputs": [],
   "source": []
  },
  {
   "cell_type": "code",
   "execution_count": null,
   "metadata": {
    "collapsed": true
   },
   "outputs": [],
   "source": []
  },
  {
   "cell_type": "code",
   "execution_count": null,
   "metadata": {
    "collapsed": true
   },
   "outputs": [],
   "source": []
  },
  {
   "cell_type": "code",
   "execution_count": null,
   "metadata": {
    "collapsed": true
   },
   "outputs": [],
   "source": []
  },
  {
   "cell_type": "code",
   "execution_count": null,
   "metadata": {
    "collapsed": true
   },
   "outputs": [],
   "source": []
  },
  {
   "cell_type": "code",
   "execution_count": null,
   "metadata": {
    "collapsed": true
   },
   "outputs": [],
   "source": []
  },
  {
   "cell_type": "code",
   "execution_count": null,
   "metadata": {
    "collapsed": true
   },
   "outputs": [],
   "source": []
  },
  {
   "cell_type": "code",
   "execution_count": null,
   "metadata": {
    "collapsed": true
   },
   "outputs": [],
   "source": []
  },
  {
   "cell_type": "code",
   "execution_count": null,
   "metadata": {
    "collapsed": true
   },
   "outputs": [],
   "source": []
  },
  {
   "cell_type": "code",
   "execution_count": null,
   "metadata": {
    "collapsed": true
   },
   "outputs": [],
   "source": []
  }
 ],
 "metadata": {
  "kernelspec": {
   "display_name": "Python [conda env:survival]",
   "language": "python",
   "name": "conda-env-survival-py"
  },
  "language_info": {
   "codemirror_mode": {
    "name": "ipython",
    "version": 2
   },
   "file_extension": ".py",
   "mimetype": "text/x-python",
   "name": "python",
   "nbconvert_exporter": "python",
   "pygments_lexer": "ipython2",
   "version": "2.7.13"
  }
 },
 "nbformat": 4,
 "nbformat_minor": 2
}
